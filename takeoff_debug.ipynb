{
 "cells": [
  {
   "cell_type": "code",
   "execution_count": 1,
   "metadata": {
    "collapsed": true
   },
   "outputs": [],
   "source": [
    "from matplotlib import pyplot as plt\n",
    "%matplotlib inline\n",
    "plt.rcParams['figure.figsize'] = 12,8"
   ]
  },
  {
   "cell_type": "code",
   "execution_count": 2,
   "metadata": {
    "collapsed": false
   },
   "outputs": [],
   "source": [
    "import os\n",
    "import sys\n",
    "import numpy as np\n",
    "from astropy.time import Time\n",
    "import astropy.coordinates\n",
    "from myPyLib.Mollweide import moll\n",
    "#from matplotlib import pyplot as plt\n",
    "import util\n",
    "import schdutil\n",
    "import Moon\n"
   ]
  },
  {
   "cell_type": "code",
   "execution_count": 3,
   "metadata": {
    "collapsed": false
   },
   "outputs": [],
   "source": [
    "tel, yr, mn, dy = 'bok', 2016, 9, 3\n",
    "moon_dis_limit = 50.0\n",
    "moon_dis_limit, airmass_limit, ha_limit=50.0,1.75,3.0\n",
    "obs_begin, obs_end = None, None\n",
    "# airmass lower limit, set this to avoid zenith\n",
    "airmass_lbound = 1.005  # about 84 deg\n"
   ]
  },
  {
   "cell_type": "code",
   "execution_count": 4,
   "metadata": {
    "collapsed": false
   },
   "outputs": [],
   "source": [
    "    # load site and telescope basic data\n",
    "    site = schdutil.load_basic(tel)\n",
    "\n",
    "    # load fields and plan\n",
    "    plans  = schdutil.load_expplan(tel)\n",
    "    fields = schdutil.load_field(tel)\n",
    "    plancode = plans.keys()\n",
    "    plancode.sort()\n",
    "    nplan = len(plancode)\n"
   ]
  },
  {
   "cell_type": "code",
   "execution_count": 5,
   "metadata": {
    "collapsed": false
   },
   "outputs": [],
   "source": [
    "    # night parameters\n",
    "    # mjd of 18:00 of site timezone, as code of tonight\n",
    "    mjd18 = int(schdutil.mjd(yr, mn, dy, 18, 0, 0, site.tz)) % 10000\n",
    "    # mjd of local midnight, as calculate center\n",
    "    mjd24 = schdutil.mjd(yr, mn, dy, 24 - site.lon / 15.0, 0, 0,  0)\n",
    "    tmjd24 = Time(mjd24, format=\"mjd\")\n",
    "    # night length (hour)\n",
    "    night_len = schdutil.night_len(mjd24, site.lat)\n",
    "    dark_len = night_len - 2.5  # assume twilight 1.25 hours\n",
    "    # local sidereal time of midnight\n",
    "    lst24 = schdutil.fmst (yr, mn, dy, site.lon)\n",
    "    # timezone correction: between local time and timezone standard time\n",
    "    tzcorr = site.tz - site.lon / 15.0\n",
    "    # observation start and end time, in timezone time\n",
    "    sunset_time, sunrise_time = 24 + tzcorr - night_len / 2, 24 + tzcorr + night_len / 2\n",
    "    # if obs time is given, use given time\n",
    "    if obs_begin is None :\n",
    "        obs_begin = 24 + tzcorr - dark_len / 2\n",
    "    else :\n",
    "        if obs_begin < 12.0 : obs_begin += 24\n",
    "    if obs_end is None :\n",
    "        obs_end = 24 + tzcorr + dark_len / 2\n",
    "    else :\n",
    "        if obs_end < 12.0 : obs_end += 24\n",
    "    # moon position at midnight, as mean coord to calculate moon-object distance\n",
    "    mpos = astropy.coordinates.get_moon(tmjd24)\n",
    "    mphase = Moon.moon_phase(tmjd24)\n",
    "    # sun position at midnight\n",
    "    spos = astropy.coordinates.get_sun(tmjd24)\n"
   ]
  },
  {
   "cell_type": "code",
   "execution_count": 6,
   "metadata": {
    "collapsed": false
   },
   "outputs": [],
   "source": [
    "    # find all obsed file, and mark them\n",
    "    obsedlist = schdutil.ls_files(\"{tel}/obsed/*/obsed.J*.lst\".format(tel=tel))\n",
    "    schdutil.load_obsed(fields, obsedlist, [], plancode, None)\n",
    "    afields = np.array(fields.values())\n",
    "    ara = np.array([f.ra for f in afields])\n",
    "    ade = np.array([f.de for f in afields])"
   ]
  },
  {
   "cell_type": "code",
   "execution_count": 7,
   "metadata": {
    "collapsed": true
   },
   "outputs": [],
   "source": [
    "    # mark fields near moon and sun\n",
    "    moon_dis = Moon.distance(mpos.ra.deg, mpos.dec.deg, ara, ade)\n",
    "    for f in afields[np.where(moon_dis < moon_dis_limit)]:\n",
    "        f.tag += 10\n",
    "    sun_dis = Moon.distance(spos.ra.deg, spos.dec.deg, ara, ade)\n",
    "    for f in afields[np.where(sun_dis < 75)]:\n",
    "        f.tag += 20\n",
    "    atag = np.array([f.tag for f in afields])\n"
   ]
  },
  {
   "cell_type": "code",
   "execution_count": 8,
   "metadata": {
    "collapsed": false
   },
   "outputs": [],
   "source": [
    "    # keep only unfinished fields, and must away from moon\n",
    "    newfield = afields[np.where(atag <= 1)]\n",
    "\n",
    "    # count histogram\n",
    "    n_tag = len(afields)\n",
    "    n_tag_01 = sum(atag <= 1)\n",
    "    n_tag_2  = sum(atag % 10 == 2)\n",
    "    n_tag_10 = sum((atag % 10 <= 1) & (atag >= 10))\n"
   ]
  },
  {
   "cell_type": "code",
   "execution_count": 9,
   "metadata": {
    "collapsed": true
   },
   "outputs": [],
   "source": [
    "    # blocks and unique blocks\n",
    "    newfieldblock = np.array([f.bk for f in newfield])\n",
    "    newblockset = set(newfieldblock)\n",
    "    n_block = len(newblockset)"
   ]
  },
  {
   "cell_type": "code",
   "execution_count": 12,
   "metadata": {
    "collapsed": false
   },
   "outputs": [
    {
     "data": {
      "text/plain": [
       "array(['-110029', '-110029', '-110029', ..., '8852922', '8852922',\n",
       "       '8852922'], \n",
       "      dtype='|S7')"
      ]
     },
     "execution_count": 12,
     "metadata": {},
     "output_type": "execute_result"
    }
   ],
   "source": [
    "newfieldblock"
   ]
  },
  {
   "cell_type": "code",
   "execution_count": 13,
   "metadata": {
    "collapsed": true
   },
   "outputs": [],
   "source": [
    "    # block parameter\n",
    "    newblock = {}\n",
    "    for b in newblockset :\n",
    "        f_in_b = newfield[np.where(newfieldblock == b)]\n",
    "        newblock[b] = schdutil.block_info(b, f_in_b)"
   ]
  },
  {
   "cell_type": "code",
   "execution_count": 10,
   "metadata": {
    "collapsed": true
   },
   "outputs": [],
   "source": [
    "    clock_now = obs_begin\n",
    "    lst_now = lambda : (lst24 + clock_now) % 24.0  # lst of start, use lst_now() to call this\n",
    "\n",
    "    # define a lambda rank function\n",
    "    rank = lambda aa : aa.argsort().argsort()\n"
   ]
  },
  {
   "cell_type": "code",
   "execution_count": null,
   "metadata": {
    "collapsed": true
   },
   "outputs": [],
   "source": [
    "    block_sn = 0  # block sn, count blocks, and also for output\n",
    "    time_skip = 0 # skipped time, sum when no good block available\n",
    "    span_skip = 1.0 / 60.0 # how long skipped each loop"
   ]
  },
  {
   "cell_type": "code",
   "execution_count": 71,
   "metadata": {
    "collapsed": false
   },
   "outputs": [],
   "source": [
    "    rep_fmt = \"{sn:02}: #{bn} ({ra:9.5f} {de:+9.5f}) {airm:4.1f} @ {clock:5}\".format\n",
    "    sum_fmt = \"{clock:5}: {sn:02} #{bn} ({ra:9.5f} {de:+9.5f}) {airm:4.1f}\\n\".format\n",
    "    chk_fmt = \"{ord:04} {bn} ({ra:9.5f} {de:+9.5f}) {airm:4.2f} {key:>5.1f}\\n\".format\n",
    "    scr_fmt = (site.fmt + \"\\n\").format\n"
   ]
  },
  {
   "cell_type": "markdown",
   "metadata": {
    "collapsed": true
   },
   "source": [
    "## inside the loop colck_now < obs_end"
   ]
  },
  {
   "cell_type": "code",
   "execution_count": 61,
   "metadata": {
    "collapsed": true
   },
   "outputs": [],
   "source": [
    "        bra = np.array([b.ra for b in newblock.values()])\n",
    "        bde = np.array([b.de for b in newblock.values()])\n",
    "        bname = np.array(newblock.keys())\n"
   ]
  },
  {
   "cell_type": "code",
   "execution_count": 62,
   "metadata": {
    "collapsed": false
   },
   "outputs": [],
   "source": [
    "        # calculate airmass for all available block\n",
    "        ha = np.abs(lst_now() - bra) / 15.0\n",
    "        airm = schdutil.airmass(site.lat, lst_now(), bra, bde)\n"
   ]
  },
  {
   "cell_type": "code",
   "execution_count": 15,
   "metadata": {
    "collapsed": false
   },
   "outputs": [
    {
     "data": {
      "text/plain": [
       "(array([   0.,    0.,    0.,    0.,    0.,  328.,  151.,   81.,   47.,   43.]),\n",
       " array([ 0. ,  0.2,  0.4,  0.6,  0.8,  1. ,  1.2,  1.4,  1.6,  1.8,  2. ]),\n",
       " <a list of 10 Patch objects>)"
      ]
     },
     "execution_count": 15,
     "metadata": {},
     "output_type": "execute_result"
    },
    {
     "data": {
      "image/png": "[encoded data removed]",
      "text/plain": [
       "<matplotlib.figure.Figure at 0x1055cc910>"
      ]
     },
     "metadata": {},
     "output_type": "display_data"
    }
   ],
   "source": [
    "plt.hist(airm, range=(0,2))"
   ]
  },
  {
   "cell_type": "code",
   "execution_count": 63,
   "metadata": {
    "collapsed": true
   },
   "outputs": [],
   "source": [
    "        ix_1 = np.where((airm < airmass_limit) & (airm > airmass_lbound) &\n",
    "                        ((ha < ha_limit) | (ha > 24.0 - ha_limit)))\n"
   ]
  },
  {
   "cell_type": "code",
   "execution_count": 64,
   "metadata": {
    "collapsed": false
   },
   "outputs": [
    {
     "data": {
      "text/plain": [
       "42"
      ]
     },
     "execution_count": 64,
     "metadata": {},
     "output_type": "execute_result"
    }
   ],
   "source": [
    "        minde = bde[ix_1].min()\n",
    "        ix_2 = np.where((airm < airmass_limit) & (airm > airmass_lbound) &\n",
    "                        ((ha < ha_limit) | (ha > 24.0 - ha_limit)) &\n",
    "                        (bde < minde + 4.0))\n",
    "        len(ix_2[0])"
   ]
  },
  {
   "cell_type": "code",
   "execution_count": 65,
   "metadata": {
    "collapsed": false
   },
   "outputs": [
    {
     "data": {
      "text/plain": [
       "array([ 59. ,  35.5,  42.5,  43. ,  39. ,  42. ,  47. ,  36.5,  49. ,\n",
       "        36.5,  38. ,  38. ,  53.5,  30. ,  48. ,  49.5,  50.5,  42.5,\n",
       "        40. ,  33. ,  49.5,  34. ,  53. ,  28.5,  43. ,  37. ,  37.5,\n",
       "        45.5,  39. ,  43.5,  42.5,  45. ,  41. ,  29. ,  45. ,  33. ,\n",
       "        32. ,  34.5,  41.5,  43.5,  36. ,  35.5])"
      ]
     },
     "execution_count": 65,
     "metadata": {},
     "output_type": "execute_result"
    }
   ],
   "source": [
    "        # make key for each block, key = airmass rank + ra rank + de rank\n",
    "        airm_2, bra_2, bde_2, bname_2 = airm[ix_2], bra[ix_2], bde[ix_2], bname[ix_2]\n",
    "        rank_2 = rank(airm_2) + rank(bra_2)/2.0 + rank(bde_2)/2.0\n",
    "rank_2"
   ]
  },
  {
   "cell_type": "code",
   "execution_count": 66,
   "metadata": {
    "collapsed": false
   },
   "outputs": [
    {
     "data": {
      "text/plain": [
       "(0, 4)"
      ]
     },
     "execution_count": 66,
     "metadata": {},
     "output_type": "execute_result"
    },
    {
     "data": {
      "image/png": "[encoded data removed]",
      "text/plain": [
       "<matplotlib.figure.Figure at 0x1073f17d0>"
      ]
     },
     "metadata": {},
     "output_type": "display_data"
    }
   ],
   "source": [
    "plt.plot(bra[ix_1]/15.0,bde[ix_1],\".\")\n",
    "plt.xlim(0,4)"
   ]
  },
  {
   "cell_type": "code",
   "execution_count": 67,
   "metadata": {
    "collapsed": false
   },
   "outputs": [
    {
     "data": {
      "text/plain": [
       "(3.9248209806137737, 20.169593967152693)"
      ]
     },
     "execution_count": 67,
     "metadata": {},
     "output_type": "execute_result"
    }
   ],
   "source": [
    "lst_now(), clock_now"
   ]
  },
  {
   "cell_type": "code",
   "execution_count": 68,
   "metadata": {
    "collapsed": false
   },
   "outputs": [
    {
     "data": {
      "text/plain": [
       "(array([ 246.,  233.,   98.,  227.,  232.,   30.,   12.,   21.,  126.,  223.]),\n",
       " array([  9.74334626e-04,   2.35600816e+00,   4.71104199e+00,\n",
       "          7.06607582e+00,   9.42110965e+00,   1.17761435e+01,\n",
       "          1.41311773e+01,   1.64862111e+01,   1.88412450e+01,\n",
       "          2.11962788e+01,   2.35513126e+01]),\n",
       " <a list of 10 Patch objects>)"
      ]
     },
     "execution_count": 68,
     "metadata": {},
     "output_type": "execute_result"
    },
    {
     "data": {
      "image/png": "[encoded data removed]",
      "text/plain": [
       "<matplotlib.figure.Figure at 0x1070c39d0>"
      ]
     },
     "metadata": {},
     "output_type": "display_data"
    }
   ],
   "source": [
    "plt.hist(ha)"
   ]
  },
  {
   "cell_type": "code",
   "execution_count": 69,
   "metadata": {
    "collapsed": true
   },
   "outputs": [],
   "source": [
    "        # choose the best block, and generate scripts, and generate check file\n",
    "        sort_2 = rank_2.argsort() # sort for generate check file\n",
    "        ix_best = rank_2.argmin() # the best block\n",
    "        bname_best = bname_2[ix_best]\n",
    "        block_best = newblock[bname_best]\n",
    "        # inc sn\n",
    "        block_sn += 1\n"
   ]
  },
  {
   "cell_type": "code",
   "execution_count": 72,
   "metadata": {
    "collapsed": false
   },
   "outputs": [
    {
     "name": "stdout",
     "output_type": "stream",
     "text": [
      "#ORD  B_NAME (   RA        DEC   ) AIRM   KEY\n",
      "0001 -033253 ( 46.05063  -0.30000) 1.21  28.5\n",
      "0002 -110421 ( 42.05775  -1.10000) 1.25  29.0\n",
      "0003 0130421 ( 48.45184  +0.50000) 1.19  30.0\n",
      "0004 -110365 ( 36.45672  -1.10000) 1.29  32.0\n",
      "0005 -033197 ( 40.45055  -0.30000) 1.25  33.0\n",
      "0006 -110309 ( 30.85569  -1.10000) 1.35  33.0\n",
      "0007 0130365 ( 42.85163  +0.50000) 1.22  34.0\n",
      "0008 0370357 ( 45.28041  +2.10000) 1.19  34.5\n",
      "0009 -033141 ( 34.85048  -0.30000) 1.30  35.5\n",
      "0010 0213207 ( 44.46144  +1.30000) 1.20  35.5\n",
      "0011 0213151 ( 38.86000  +1.30000) 1.24  36.0\n",
      "0012 0130309 ( 37.25142  +0.50000) 1.26  36.5\n",
      "0013 0130253 ( 31.65121  +0.50000) 1.32  36.5\n",
      "0014 -033085 ( 29.25040  -0.30000) 1.36  37.0\n",
      "0015 -110253 ( 25.25465  -1.10000) 1.44  37.5\n",
      "0016 0370301 ( 39.67665  +2.10000) 1.22  38.0\n",
      "0017 0453222 ( 48.51213  +2.90000) 1.16  38.0\n",
      "0018 0453166 ( 42.90495  +2.90000) 1.19  39.0\n",
      "0019 0370021 ( 36.70322  +2.10000) 1.24  39.0\n",
      "0020 0213095 ( 33.25856  +1.30000) 1.29  40.0\n",
      "0021 -110197 ( 19.65362  -1.10000) 1.55  41.0\n",
      "0022 0130197 ( 26.05099  +0.50000) 1.39  41.5\n",
      "0023 0370245 ( 34.07288  +2.10000) 1.27  42.0\n",
      "0024 0213039 ( 27.65712  +1.30000) 1.36  42.5\n",
      "0025 0453110 ( 37.29777  +2.90000) 1.23  42.5\n",
      "0026 -110141 ( 14.05259  -1.10000) 1.69  42.5\n",
      "0027 0370189 ( 28.46912  +2.10000) 1.33  43.0\n",
      "0028 -033029 ( 23.65032  -0.30000) 1.45  43.0\n",
      "0029 0130141 ( 20.45078  +0.50000) 1.49  43.5\n",
      "0030 0453054 ( 31.69059  +2.90000) 1.28  43.5\n",
      "0031 -032973 ( 18.05025  -0.30000) 1.56  45.0\n",
      "0032 0212983 ( 22.05568  +1.30000) 1.45  45.0\n",
      "0033 -030869 ( 12.85018  -0.30000) 1.71  45.5\n",
      "0034 0130085 ( 14.85057  +0.50000) 1.63  47.0\n",
      "0035 0452998 ( 26.08340  +2.90000) 1.35  48.0\n",
      "0036 0370133 ( 22.86536  +2.10000) 1.42  49.0\n",
      "0037 0210813 ( 12.45321  +1.30000) 1.68  49.5\n",
      "0038 0370077 ( 17.26159  +2.10000) 1.53  49.5\n",
      "0039 0210869 ( 17.25444  +1.30000) 1.55  50.5\n",
      "0040 0450867 ( 21.27725  +2.90000) 1.43  53.0\n",
      "0041 0450815 ( 16.47109  +2.90000) 1.53  53.5\n",
      "0042 0450759 ( 10.86391  +2.90000) 1.68  59.0\n"
     ]
    }
   ],
   "source": [
    "            print(\"#{ord:>3} {bn:>7} ({ra:^9} {de:^9}) {airm:>4} {key:>5}\\n\".format(\n",
    "                ord=\"ORD\",bn=\"B_NAME\", ra=\"RA\", de=\"DEC\", airm=\"AIRM\",key=\"KEY\")).strip()\n",
    "            for i in range(len(ix_2[0])) :\n",
    "                s = sort_2[i]\n",
    "                b = newblock[bname_2[s]]\n",
    "                print(chk_fmt(ord=i+1, bn=b.bname, ra=b.ra, de=b.de, airm=airm_2[s], key=rank_2[s])).strip()\n"
   ]
  },
  {
   "cell_type": "code",
   "execution_count": 73,
   "metadata": {
    "collapsed": false
   },
   "outputs": [
    {
     "name": "stdout",
     "output_type": "stream",
     "text": [
      "obs    60.0  object          449  1    strumu  025436.14  -001800.0  2000.0\n",
      "obs    60.0  object          450  1    strumu  025748.14  -001800.0  2000.0\n",
      "obs    60.0  object          451  1    strumu  030100.14  -001800.0  2000.0\n",
      "obs    60.0  object          452  1    strumu  030412.15  -001800.0  2000.0\n",
      "obs    60.0  object          453  1    strumu  030724.15  -001800.0  2000.0\n",
      "obs    60.0  object          454  1    strumu  031036.15  -001800.0  2000.0\n",
      "obs    60.0  object          455  1    strumu  031348.15  -001800.0  2000.0\n"
     ]
    }
   ],
   "source": [
    "        block_time = 0  # time cost for this block, in seconds\n",
    "        #with open(scr_fn, \"w\") as scr_f :\n",
    "        if True:\n",
    "            # script: plan loop, field loop, do only factor < 1\n",
    "            for p in plancode :\n",
    "                for f in block_best.fields :\n",
    "                    factor_work = 1.0 - f.factor[p]\n",
    "                    nrepeat = int(np.ceil(factor_work / plans[p].factor))\n",
    "                    for i in range(nrepeat) :\n",
    "                        print(scr_fmt(e=schdutil.exposure_info.make(plans[p], f))).strip()\n",
    "                        block_time += plans[p].expt + site.inter\n",
    "        for f in block_best.fields :\n",
    "            f.tag = 9 # mark as used in this night\n"
   ]
  },
  {
   "cell_type": "code",
   "execution_count": 59,
   "metadata": {
    "collapsed": false
   },
   "outputs": [
    {
     "data": {
      "text/plain": [
       "770.0"
      ]
     },
     "execution_count": 59,
     "metadata": {},
     "output_type": "execute_result"
    }
   ],
   "source": [
    "block_time"
   ]
  },
  {
   "cell_type": "code",
   "execution_count": 74,
   "metadata": {
    "collapsed": true
   },
   "outputs": [],
   "source": [
    "        # remove used block from newblock\n",
    "        del newblock[bname_best]\n",
    "        # clock forward\n",
    "        clock_now += block_time / 3600.0\n"
   ]
  },
  {
   "cell_type": "code",
   "execution_count": null,
   "metadata": {
    "collapsed": true
   },
   "outputs": [],
   "source": []
  }
 ],
 "metadata": {
  "kernelspec": {
   "display_name": "Python 2",
   "language": "python",
   "name": "python2"
  },
  "language_info": {
   "codemirror_mode": {
    "name": "ipython",
    "version": 2
   },
   "file_extension": ".py",
   "mimetype": "text/x-python",
   "name": "python",
   "nbconvert_exporter": "python",
   "pygments_lexer": "ipython2",
   "version": "2.7.10"
  }
 },
 "nbformat": 4,
 "nbformat_minor": 0
}
